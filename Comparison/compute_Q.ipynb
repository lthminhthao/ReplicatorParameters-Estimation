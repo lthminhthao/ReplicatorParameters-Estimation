{
 "cells": [
  {
   "cell_type": "code",
   "execution_count": 1,
   "id": "a34d84ae",
   "metadata": {},
   "outputs": [],
   "source": [
    "import pandas as pd\n",
    "import numpy as np\n",
    "import matplotlib.pyplot as plt\n",
    "\n",
    "from model_prediction import Replicator\n",
    "from pneumococcus_data import data_observation\n",
    "from subsystem import alpha_extract"
   ]
  },
  {
   "cell_type": "code",
   "execution_count": 2,
   "id": "eeafe9fc",
   "metadata": {},
   "outputs": [],
   "source": [
    "Iran, Denmark, Brazil, Nepal, Mozambique = data_observation()\n",
    "\n",
    "big_alpha_Jan = np.loadtxt(open(\"big_alpha_Jan.txt\",\"rb\"), delimiter = \",\", skiprows = 0)\n",
    "big_alpha_May = np.loadtxt(open(\"big_alpha_May.txt\",\"rb\"), delimiter = \",\", skiprows = 0)"
   ]
  },
  {
   "cell_type": "code",
   "execution_count": 3,
   "id": "58091ee3",
   "metadata": {},
   "outputs": [],
   "source": [
    "def compute_prediction(strain_number, alpha_matrix, mu):\n",
    "    #compute fitness matrix\n",
    "    lambd = np.zeros((strain_number, strain_number))\n",
    "    for k in range (0, strain_number):\n",
    "        for j in range (0, strain_number):\n",
    "            lambd[k][j] = mu*(alpha_matrix[j][k] - alpha_matrix[k][j]) + alpha_matrix[j][k] - alpha_matrix[j][j]\n",
    "    \n",
    "    if mu > 4:\n",
    "        #initial values\n",
    "        u0 = (1/strain_number)*np.ones(strain_number)\n",
    "        \n",
    "        #compute solution of replicator dynamics\n",
    "        predict_solution = Replicator(strain_number, lambd, 50, u0)\n",
    "        \n",
    "    else:\n",
    "        one = np.ones(strain_number) #vector of all ones\n",
    "        inv = np.linalg.inv(lambd) #inverse matrix of fitness matrix\n",
    "        \n",
    "        #equilibrium of predicted model\n",
    "        predict_solution = (1/np.matmul(one.T, np.matmul(inv, one)))*np.matmul(inv, one)\n",
    "    \n",
    "    return lambd, predict_solution"
   ]
  },
  {
   "cell_type": "code",
   "execution_count": 4,
   "id": "cc367774",
   "metadata": {},
   "outputs": [
    {
     "name": "stdout",
     "output_type": "stream",
     "text": [
      "-----------------------------------------\n",
      "Order 1: \n",
      "Iran: \n",
      "0.3646278853586493\n",
      "Nepal: \n",
      "0.29247952463474813\n",
      "Brazil: \n",
      "0.3395278964420622\n",
      "Denmark: \n",
      "0.3012519898378413\n",
      "Mozambique: \n",
      "0.28391018827917913\n",
      "-----------------------------------------\n",
      "Order 2: \n",
      "Iran: \n",
      "5.310864142851104\n",
      "Nepal: \n",
      "9.523129960494336\n",
      "Brazil: \n",
      "8.629782987565992\n",
      "Denmark: \n",
      "7.874255087583348\n",
      "Mozambique: \n",
      "9.181391016727916\n"
     ]
    }
   ],
   "source": [
    "country = [Iran, Nepal, Brazil, Denmark, Mozambique]\n",
    "mu_list = [0.93, 3.95, 9.85, 10.23, 16.8]\n",
    "name_country = ['Iran', 'Nepal', 'Brazil', 'Denmark', 'Mozambique']\n",
    "big_alpha = [big_alpha_Jan, big_alpha_May]\n",
    "\n",
    "Q_value = [[], []] #  Q =[Q_Jan, Q_May]\n",
    "\n",
    "\n",
    "for j in range (0, 2):\n",
    "    print('-----------------------------------------')\n",
    "    print(f'Order {j+1}: ')\n",
    "    for i in range (0, 5):\n",
    "        print(f'{name_country[i]}: ')\n",
    "        #extract data for each country\n",
    "        strain_list = np.array(country[i].strain)\n",
    "        strain_number = len(strain_list)\n",
    "    \n",
    "        #extract alpha matrix from big alpha\n",
    "        alpha_matrix = alpha_extract(strain_list, big_alpha[j])\n",
    "        mu = mu_list[i]\n",
    "        Lambda, z = compute_prediction(strain_number, alpha_matrix, mu)\n",
    "        \n",
    "        #compute Q\n",
    "        Q = np.dot(z.T,np.dot(Lambda,z))\n",
    "        Q_value[j].append(Q)\n",
    "        \n",
    "        print(Q)"
   ]
  },
  {
   "cell_type": "code",
   "execution_count": 9,
   "id": "cde3ee9a",
   "metadata": {},
   "outputs": [
    {
     "data": {
      "text/plain": [
       "<matplotlib.legend.Legend at 0x21eb66e5a30>"
      ]
     },
     "execution_count": 9,
     "metadata": {},
     "output_type": "execute_result"
    },
    {
     "data": {
      "image/png": "[encoded data removed]",
      "text/plain": [
       "<Figure size 500x400 with 1 Axes>"
      ]
     },
     "metadata": {},
     "output_type": "display_data"
    }
   ],
   "source": [
    "index = np.arange(5)\n",
    "bar_width = 0.4\n",
    "\n",
    "fig, ax = plt.subplots(figsize = (5,4))\n",
    "Jan = ax.bar(index, Q_value[0], bar_width, color = '#1f77b4', label = \"Order 1\")\n",
    "May = ax.bar(index + bar_width, Q_value[1], bar_width, color = '#FF5733', label = \"Order 2\")\n",
    "\n",
    "ax.set_xlabel('Country', fontsize = 18)\n",
    "ax.set_ylabel('$Q$ value', fontsize = 18)\n",
    "ax.set_xticks(index + bar_width / 2)\n",
    "ax.set_xticklabels([\"Iran\", \"Nepal\", \"Brazil\", \"Denmark\", \"Mozambique\"])\n",
    "ax.tick_params(axis='x', which='major', rotation = 45)\n",
    "\n",
    "ax.legend()"
   ]
  },
  {
   "cell_type": "code",
   "execution_count": 10,
   "id": "86304134",
   "metadata": {},
   "outputs": [],
   "source": [
    "fig.savefig('Qvalue.png', dpi=300, bbox_inches='tight')"
   ]
  }
 ],
 "metadata": {
  "kernelspec": {
   "display_name": "Python 3 (ipykernel)",
   "language": "python",
   "name": "python3"
  },
  "language_info": {
   "codemirror_mode": {
    "name": "ipython",
    "version": 3
   },
   "file_extension": ".py",
   "mimetype": "text/x-python",
   "name": "python",
   "nbconvert_exporter": "python",
   "pygments_lexer": "ipython3",
   "version": "3.9.13"
  }
 },
 "nbformat": 4,
 "nbformat_minor": 5
}
