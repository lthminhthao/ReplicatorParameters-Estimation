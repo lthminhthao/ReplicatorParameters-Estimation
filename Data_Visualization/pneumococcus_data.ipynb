{
 "cells": [
  {
   "cell_type": "code",
   "execution_count": 1,
   "metadata": {},
   "outputs": [],
   "source": [
    "import pandas as pd\n",
    "import numpy as np\n",
    "import matplotlib.pyplot as plt\n",
    "import seaborn as sns"
   ]
  },
  {
   "cell_type": "code",
   "execution_count": 2,
   "metadata": {},
   "outputs": [],
   "source": [
    "data = pd.read_csv('Serotype_Identities.csv')"
   ]
  },
  {
   "cell_type": "code",
   "execution_count": 3,
   "metadata": {},
   "outputs": [],
   "source": [
    "z_Denmark = np.array([7, 11, 5, 21, 14, 17, 15, 3, 6, 42, 12, 22, 21, 12, 12, 11, 5, 5, 4, 3, 3, 2, 2, 2, 2, 2, 2, 1, 1, 1, 1, 1, 1])\n",
    "z_Denmark = z_Denmark/sum(z_Denmark)\n",
    "\n",
    "z_Iran = np.array([63, 58, 55, 55, 49, 41, 39, 37, 34, 33, 25, 22, 22, 20, 19, 18, 18, 17, 17, 17, 17, 17, 14, 13, 13, 10, 8, 8, 1, 1])\n",
    "z_Iran = z_Iran/sum(z_Iran)\n",
    "\n",
    "z_Brazil = np.array([19, 17, 13, 12, 10, 8, 6, 6, 5, 5, 4, 4, 4, 4, 3, 3, 2, 2, 2, 2, 2, 1, 1, 1, 1, 1])\n",
    "z_Brazil = z_Brazil/sum(z_Brazil)\n",
    "\n",
    "z_Nepal = np.array([14, 5, 1, 4, 8, 25, 5, 4, 3, 2, 9, 1, 1, 2, 6, 1, 5, 2, 12, 2, 1, 1, 10, 1, 4, 19, 4, 6, 1, 9, 1, 2, 7, 3, 1, 23, 2, 4, 7, 3, 20, 2, 1, 1, 1, 2, 1, 1, 7, 2, 1, 11, 9, 7, 9, 23, 14, 7, 2, 4, 6, 2, 4, 9, 22, 2, 11, 31, 1])\n",
    "z_Nepal=  z_Nepal/sum(z_Nepal)\n",
    "\n",
    "z_Mozambique = np.array([17, 4, 1, 5, 62, 20, 1, 4, 22, 6, 26, 5, 1, 25, 40, 1, 30, 41, 33, 20, 2, 2, 4, 68, 4, 45, 10, 24, 50, 1, 19, 2, 2, 2, 40, 1, 58, 1, 20, 5, 46, 2, 4, 10, 43])\n",
    "z_Mozambique = z_Mozambique/sum(z_Mozambique)"
   ]
  },
  {
   "cell_type": "code",
   "execution_count": 5,
   "metadata": {},
   "outputs": [
    {
     "data": {
      "text/plain": [
       "23          19A\n",
       "4            13\n",
       "36           6A\n",
       "28          23F\n",
       "40           7C\n",
       "25          19F\n",
       "44           NT\n",
       "17          15B\n",
       "14          11A\n",
       "34          35B\n",
       "18          15C\n",
       "16          15A\n",
       "10           34\n",
       "13          10A\n",
       "27          23B\n",
       "8            21\n",
       "5            14\n",
       "38           6B\n",
       "19          16F\n",
       "30          28F\n",
       "0             3\n",
       "43           9V\n",
       "26          23A\n",
       "9            31\n",
       "11           38\n",
       "39           6C\n",
       "3             8\n",
       "22          18C\n",
       "1             4\n",
       "24          19B\n",
       "42           9N\n",
       "7            20\n",
       "41           9A\n",
       "21          18A\n",
       "32          33F\n",
       "31          33C\n",
       "20          17F\n",
       "33          35A\n",
       "35          35F\n",
       "6            18\n",
       "37        6A/6B\n",
       "29          24F\n",
       "2             5\n",
       "12           46\n",
       "15    12F/12A/4\n",
       "Name: strain, dtype: object"
      ]
     },
     "execution_count": 5,
     "metadata": {},
     "output_type": "execute_result"
    }
   ],
   "source": [
    "Denmark = {'strain': data['Denmark'].dropna(),\n",
    "          'cases':  z_Denmark}\n",
    "Denmark = pd.DataFrame(Denmark).sort_values(['cases'], ascending = False)\n",
    "Denmark.strain.astype('str')\n",
    "        \n",
    "Iran = {'strain' : data['Iran'].dropna(),\n",
    "       'cases': z_Iran}\n",
    "Iran = pd.DataFrame(Iran).sort_values(['cases'], ascending = False)\n",
    "Iran.strain.astype('str')\n",
    "\n",
    "Brazil = {'strain': data['Brazil'].dropna(),\n",
    "         'cases': z_Brazil}\n",
    "Brazil = pd.DataFrame(Brazil).sort_values(['cases'], ascending = False)\n",
    "Brazil.strain.astype('str')\n",
    "        \n",
    "Nepal = {'strain': data['Nepal'].dropna(),\n",
    "        'cases': z_Nepal}\n",
    "Nepal = pd.DataFrame(Nepal).sort_values(['cases'], ascending = False)\n",
    "Nepal.strain.astype('str')\n",
    "        \n",
    "Mozambique = {'strain': data['Mozambique'].dropna(),\n",
    "             'cases': z_Mozambique}\n",
    "Mozambique = pd.DataFrame(Mozambique).sort_values(['cases'], ascending = False)\n",
    "Mozambique.strain.astype('str')"
   ]
  },
  {
   "cell_type": "code",
   "execution_count": 6,
   "metadata": {},
   "outputs": [],
   "source": [
    "countries = [Denmark.strain, Iran.strain, Brazil.strain, Nepal.strain, Mozambique.strain]\n",
    "common_strain = list(set.intersection(*map(set, countries)))\n",
    "#print(common_strain)\n",
    "common_strain = ['6A', '19A', '6B', '19F', '3', '14', '4']"
   ]
  },
  {
   "cell_type": "code",
   "execution_count": 7,
   "metadata": {},
   "outputs": [],
   "source": [
    "def data_observation():\n",
    "    return Iran, Denmark, Brazil, Nepal, Mozambique\n",
    "\n",
    "def common_strain():\n",
    "    return common_strain"
   ]
  },
  {
   "cell_type": "code",
   "execution_count": 8,
   "metadata": {},
   "outputs": [],
   "source": [
    "#OBSERVATION FROM 7 COUNTRIES\n",
    "Den_cases = np.array(Denmark.sort_values('cases', ascending = False).cases)\n",
    "Den_cases = np.append(Den_cases, np.zeros(70 - len(Den_cases)))\n",
    "\n",
    "Ira_cases = np.array(Iran.sort_values('cases', ascending = False).cases)\n",
    "Ira_cases = np.append(Ira_cases, np.zeros(70 - len(Ira_cases)))\n",
    "\n",
    "Braz_cases = np.array(Brazil.sort_values('cases', ascending = False).cases)\n",
    "Braz_cases = np.append(Braz_cases, np.zeros(70 - len(Braz_cases)))\n",
    "\n",
    "Nep_cases = np.array(Nepal.sort_values('cases', ascending = False).cases)\n",
    "Nep_cases = np.append(Nep_cases, np.zeros(70 - len(Nep_cases)))\n",
    "\n",
    "Moz_cases = np.array(Mozambique.sort_values('cases', ascending = False).cases)\n",
    "Moz_cases = np.append(Moz_cases, np.zeros(70 - len(Moz_cases)))\n",
    "\n",
    "#compute the error between data and model\n",
    "def error(case_structure):\n",
    "    error = (np.linalg.norm(Den_cases - case_structure) + np.linalg.norm(Ira_cases - case_structure) + np.linalg.norm(Braz_cases - case_structure) + np.linalg.norm(Nep_cases - case_structure) + np.linalg.norm(Moz_cases - case_structure))/5\n",
    "    return error\n",
    "\n",
    "country = np.array([Ira_cases, Den_cases, Braz_cases, Nep_cases, Moz_cases])\n",
    "\n",
    "def data_plot(axis =None):\n",
    "    color = ['red', 'lime', 'fuchsia', 'aqua', 'mediumblue']\n",
    "    if axis is None:\n",
    "        axis = plt.gca()\n",
    "    for i in range (0, len(country)):\n",
    "        axis.plot(np.linspace(1, len(country[i]), len(country[i])), country[i], linewidth = 1.5, color = '{}'.format(color[i]))\n",
    "        \n",
    "    return axis"
   ]
  }
 ],
 "metadata": {
  "kernelspec": {
   "display_name": "Python 3 (ipykernel)",
   "language": "python",
   "name": "python3"
  },
  "language_info": {
   "codemirror_mode": {
    "name": "ipython",
    "version": 3
   },
   "file_extension": ".py",
   "mimetype": "text/x-python",
   "name": "python",
   "nbconvert_exporter": "python",
   "pygments_lexer": "ipython3",
   "version": "3.9.13"
  }
 },
 "nbformat": 4,
 "nbformat_minor": 2
}
