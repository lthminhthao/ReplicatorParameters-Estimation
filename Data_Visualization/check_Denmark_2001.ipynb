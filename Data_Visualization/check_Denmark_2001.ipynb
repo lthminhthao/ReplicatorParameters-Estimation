{
 "cells": [
  {
   "cell_type": "code",
   "execution_count": 1,
   "id": "539c44a3",
   "metadata": {},
   "outputs": [],
   "source": [
    "import pandas as pd\n",
    "import numpy as np\n",
    "import matplotlib.pyplot as plt\n",
    "\n",
    "from pneumococcus_data import data_observation\n",
    "from Denmark_2001 import D2001"
   ]
  },
  {
   "cell_type": "code",
   "execution_count": 2,
   "id": "be6a58b4",
   "metadata": {},
   "outputs": [
    {
     "name": "stdout",
     "output_type": "stream",
     "text": [
      "['6A', '20', '19F', '21', '4', '31', '22F', '23A', '3', '19A', '11A', '10A', '17F', '35B', '7F', '38', '16F', '18C', '23F', '9V', 'NT', '33F', '7B', '37', '18B', '9N', '35F', '14', '6B']\n",
      "29\n"
     ]
    }
   ],
   "source": [
    "Denmark_2001 = D2001()\n",
    "\n",
    "all_strain = ['16', '23B', '33B', '7C', '23F', 'NT3b', '9V', '5', '35F', '24F', '12F', '9', '9L', 'NT2', '20', '45', '35A', \n",
    "              '19C', '10', '24A', '19F', '33C', 'NT4a', '40', '15A', '6D', '7B', '6A', '4', '11A', '33A', '46', '4B', '23A', \n",
    "              '19', '18A', '6A/6B', '11B', '38', '33F', '29', '18F', '13', '15C', 'NT', '6C', '18B', '11D', '17A', '21', '31', \n",
    "              '22F', '36', '8', '9A', '19B', '28F', '24B', '48', '6B', '23C', '10A', '12F/12A/4', '25F', '35B', '19A', '18C', \n",
    "              '39', '17F', 'NT4b', '28A', '1', '22A', '32F', '6', '35C', '15B', '37', '17', '18', 'NC', '15', '23', '11', \n",
    "              '10F', '14', '3', '9N', '16F', '34', '22', '7F']\n",
    "\n",
    "\n",
    "countries = [all_strain, Denmark_2001.strain]\n",
    "common_strain = list(set.intersection(*map(set, countries)))\n",
    "print(common_strain)\n",
    "print(len(common_strain))"
   ]
  },
  {
   "cell_type": "code",
   "execution_count": 3,
   "id": "233b684d",
   "metadata": {},
   "outputs": [
    {
     "name": "stdout",
     "output_type": "stream",
     "text": [
      "['15B/C']\n"
     ]
    }
   ],
   "source": [
    "missing = list(set(Denmark_2001.strain) - set(common_strain))\n",
    "print(missing)"
   ]
  },
  {
   "cell_type": "code",
   "execution_count": 4,
   "id": "96b06616",
   "metadata": {},
   "outputs": [],
   "source": [
    "strain_list = np.array(Denmark_2001.strain)\n",
    "all_strain = np.array(all_strain)\n",
    "\n",
    "big_alpha = np.loadtxt(open(\"big_alpha_Jan.txt\",\"rb\"), delimiter = \",\", skiprows = 0)\n",
    "s = len(strain_list)\n",
    "alpha_matrix = np.ones((s,s))*50\n",
    "\n",
    "for xBA, strain_xBA in enumerate(strain_list):\n",
    "    for yBA, strain_yBA in enumerate(strain_list):\n",
    "        find_x = np.where(all_strain == strain_xBA)\n",
    "        index_x = find_x[0]\n",
    "        \n",
    "        find_y = np.where(all_strain == strain_yBA)\n",
    "        index_y = find_y[0]\n",
    "            \n",
    "        if index_x.size > 0 and index_y.size > 0:\n",
    "            alpha_matrix[xBA, yBA] = big_alpha[index_x, index_y]"
   ]
  },
  {
   "cell_type": "code",
   "execution_count": 5,
   "id": "7d40156b",
   "metadata": {},
   "outputs": [
    {
     "name": "stdout",
     "output_type": "stream",
     "text": [
      "825\n"
     ]
    }
   ],
   "source": [
    "count = 0\n",
    "\n",
    "for i in range (0, len(strain_list)):\n",
    "    for j in range (0, len(strain_list)):\n",
    "        if alpha_matrix[i,j] < 50:\n",
    "            count += 1\n",
    "\n",
    "print(count)"
   ]
  }
 ],
 "metadata": {
  "kernelspec": {
   "display_name": "Python 3 (ipykernel)",
   "language": "python",
   "name": "python3"
  },
  "language_info": {
   "codemirror_mode": {
    "name": "ipython",
    "version": 3
   },
   "file_extension": ".py",
   "mimetype": "text/x-python",
   "name": "python",
   "nbconvert_exporter": "python",
   "pygments_lexer": "ipython3",
   "version": "3.9.13"
  }
 },
 "nbformat": 4,
 "nbformat_minor": 5
}
