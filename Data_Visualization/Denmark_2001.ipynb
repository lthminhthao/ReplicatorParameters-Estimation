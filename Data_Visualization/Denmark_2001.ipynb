{
 "cells": [
  {
   "cell_type": "code",
   "execution_count": 1,
   "id": "f41b74ee",
   "metadata": {},
   "outputs": [],
   "source": [
    "import pandas as pd\n",
    "import numpy as np\n",
    "import matplotlib.pyplot as plt\n",
    "\n",
    "# In[2]:\n",
    "data = pd.read_csv('Denmark_Identities_2001.csv')"
   ]
  },
  {
   "cell_type": "code",
   "execution_count": 2,
   "id": "261d1fda",
   "metadata": {},
   "outputs": [],
   "source": [
    "z_Denmark = np.array([92, 86, 53, 45, 27,  22, 21, 19, 18, 14, 12, 10, 10,\n",
    "                       8, 8, 7, 5, 4, 2, 2, 2, 2, 2, 2, 2, 1, 1, 1, 1, 1])\n",
    "z_Denmark = z_Denmark/sum(z_Denmark)"
   ]
  },
  {
   "cell_type": "code",
   "execution_count": 3,
   "id": "c87e5472",
   "metadata": {},
   "outputs": [
    {
     "data": {
      "text/plain": [
       "0       23F\n",
       "1       19F\n",
       "2        6B\n",
       "3        6A\n",
       "4       19A\n",
       "5        14\n",
       "6     15B/C\n",
       "7       11A\n",
       "8       22F\n",
       "9        NT\n",
       "10      33F\n",
       "11       9V\n",
       "12       20\n",
       "13      10A\n",
       "14      18C\n",
       "15      35F\n",
       "16        3\n",
       "17        4\n",
       "18      16F\n",
       "19      17F\n",
       "20      18B\n",
       "21       21\n",
       "22      35B\n",
       "23       37\n",
       "24       7B\n",
       "25      23A\n",
       "26       31\n",
       "27       38\n",
       "28       7F\n",
       "29       9N\n",
       "Name: strain, dtype: object"
      ]
     },
     "execution_count": 3,
     "metadata": {},
     "output_type": "execute_result"
    }
   ],
   "source": [
    "Denmark_2001 = {'strain': data['Denmark'],\n",
    "                'cases':  z_Denmark}\n",
    "Denmark_2001 = pd.DataFrame(Denmark_2001).sort_values(['cases'], ascending = False)\n",
    "Denmark_2001.strain.astype('str')"
   ]
  },
  {
   "cell_type": "code",
   "execution_count": 4,
   "id": "ba913677",
   "metadata": {},
   "outputs": [],
   "source": [
    "def D2001():\n",
    "    return Denmark_2001"
   ]
  }
 ],
 "metadata": {
  "kernelspec": {
   "display_name": "Python 3 (ipykernel)",
   "language": "python",
   "name": "python3"
  },
  "language_info": {
   "codemirror_mode": {
    "name": "ipython",
    "version": 3
   },
   "file_extension": ".py",
   "mimetype": "text/x-python",
   "name": "python",
   "nbconvert_exporter": "python",
   "pygments_lexer": "ipython3",
   "version": "3.9.13"
  }
 },
 "nbformat": 4,
 "nbformat_minor": 5
}
