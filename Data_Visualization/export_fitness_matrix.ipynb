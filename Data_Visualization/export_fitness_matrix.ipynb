{
 "cells": [
  {
   "cell_type": "code",
   "execution_count": 1,
   "id": "f208deaa",
   "metadata": {},
   "outputs": [],
   "source": [
    "import pandas as pd\n",
    "import numpy as np\n",
    "import matplotlib.pyplot as plt\n",
    "\n",
    "from pneumococcus_data import data_observation\n",
    "from subsystem import alpha_extract"
   ]
  },
  {
   "cell_type": "code",
   "execution_count": 2,
   "id": "cec13f5c",
   "metadata": {},
   "outputs": [],
   "source": [
    "Iran, Denmark, Brazil, Nepal, Mozambique = data_observation()\n",
    "\n",
    "country = np.array([Iran, Nepal, Brazil, Denmark, Mozambique], dtype = object)\n",
    "mu_list = np.array([0.93, 3.95, 9.85, 10.23, 16.8])"
   ]
  },
  {
   "cell_type": "code",
   "execution_count": 3,
   "id": "da00052b",
   "metadata": {},
   "outputs": [],
   "source": [
    "#function compute Lambda matrix with a strain list given\n",
    "def compute_lambda(strain_list, big_alpha):\n",
    "    #extract data for each country\n",
    "    strain_number = len(strain_list)\n",
    "    \n",
    "    #initial values\n",
    "    u0 = (1/strain_number)*np.ones(strain_number)\n",
    "    \n",
    "    #extract alpha matrix from big alpha\n",
    "    alpha_matrix = alpha_extract(strain_list, big_alpha)\n",
    "    \n",
    "    #compute fitness matrix\n",
    "    lambd = np.zeros((strain_number, strain_number))\n",
    "    for i in range (0, strain_number):\n",
    "        for j in range (0, strain_number):\n",
    "            lambd[i][j] = mu*(alpha_matrix[j][i] - alpha_matrix[i][j]) + alpha_matrix[j][i] - alpha_matrix[j][j]\n",
    "            \n",
    "    return lambd"
   ]
  },
  {
   "cell_type": "code",
   "execution_count": 5,
   "id": "4df3e512",
   "metadata": {},
   "outputs": [],
   "source": [
    "big_alpha_Jan = np.loadtxt(open(\"big_alpha_Jan.txt\",\"rb\"), delimiter = \",\", skiprows = 0)\n",
    "big_alpha_May = np.loadtxt(open(\"big_alpha_May.txt\",\"rb\"), delimiter = \",\", skiprows = 0)\n",
    "big_alpha = [big_alpha_Jan, big_alpha_May]\n",
    "\n",
    "name_country = np.array(['Iran', 'Nepal', 'Brazil', 'Denmark', 'Mozambique'])\n",
    "\n",
    "for i in range (0, 2):\n",
    "    for j in range (0, 5):\n",
    "        #extract each country' strain and compute LL12 & LL21\n",
    "        strain_list = np.array(country[j].strain)\n",
    "        mu = mu_list[j]\n",
    "        lambd = compute_lambda(strain_list, big_alpha[i])\n",
    "        \n",
    "        np.savetxt(f'{name_country[j]}_lambda_{i+1}.txt', lambd, delimiter = ',')"
   ]
  }
 ],
 "metadata": {
  "kernelspec": {
   "display_name": "Python 3 (ipykernel)",
   "language": "python",
   "name": "python3"
  },
  "language_info": {
   "codemirror_mode": {
    "name": "ipython",
    "version": 3
   },
   "file_extension": ".py",
   "mimetype": "text/x-python",
   "name": "python",
   "nbconvert_exporter": "python",
   "pygments_lexer": "ipython3",
   "version": "3.9.13"
  }
 },
 "nbformat": 4,
 "nbformat_minor": 5
}
