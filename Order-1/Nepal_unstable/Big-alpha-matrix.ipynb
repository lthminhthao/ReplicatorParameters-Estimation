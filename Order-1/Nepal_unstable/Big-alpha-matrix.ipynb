{
 "cells": [
  {
   "cell_type": "code",
   "execution_count": 1,
   "metadata": {},
   "outputs": [],
   "source": [
    "import pandas as pd\n",
    "import numpy as np\n",
    "from pneumococcus_data import data_observation"
   ]
  },
  {
   "cell_type": "code",
   "execution_count": 2,
   "metadata": {},
   "outputs": [
    {
     "name": "stdout",
     "output_type": "stream",
     "text": [
      "92\n"
     ]
    }
   ],
   "source": [
    "Iran, Denmark, Brazil, Nepal, Mozambique = data_observation()\n",
    "\n",
    "#call the data of 5 countries\n",
    "Iran, Denmark, Brazil, Nepal, Mozambique = data_observation()\n",
    "\n",
    "countries = [Iran.strain, Denmark.strain, Brazil.strain, Nepal.strain, Mozambique.strain]\n",
    "all_strain = list(set.union(*map(set, countries)))\n",
    "print(len(all_strain))"
   ]
  },
  {
   "cell_type": "code",
   "execution_count": 3,
   "metadata": {
    "scrolled": true
   },
   "outputs": [
    {
     "name": "stdout",
     "output_type": "stream",
     "text": [
      "['18A', '5', '17', '10A', '22F', '14', '16', '8', '39', '23C', '12F', '7F', '23', '20', '6A', '10', '48', '7C', '18F', '28F', '19', '23B', '24B', '9N', '34', 'NT4a', '19A', '24A', '16F', '17A', '23F', 'NT4b', '35B', '46', '15', '11A', '25F', '15C', '17F', '10F', '33B', '19F', '33A', '15B', '32F', '35A', '3', '24F', 'NT2', '9L', '4B', 'NC', '18B', '23A', '29', '6A/6B', '21', '6D', '9', '28A', '35C', '9A', '6B', '18', '45', '40', '6C', '19B', '9V', '38', '15A', '22', '22A', '33C', 'NT', '12F/12A/4', '1', '19C', '11', '35F', '31', '11D', '4', '13', '37', '11B', '33F', 'NT3b', '36', '6', '7B', '18C']\n"
     ]
    }
   ],
   "source": [
    "print(all_strain)"
   ]
  },
  {
   "cell_type": "code",
   "execution_count": 3,
   "metadata": {},
   "outputs": [],
   "source": [
    "all_strain = ['16', '23B', '33B', '7C', '23F', 'NT3b', '9V', '5', '35F', '24F', '12F', '9', '9L', 'NT2', '20', '45', '35A', \n",
    "              '19C', '10', '24A', '19F', '33C', 'NT4a', '40', '15A', '6D', '7B', '6A', '4', '11A', '33A', '46', '4B', '23A', \n",
    "              '19', '18A', '6A/6B', '11B', '38', '33F', '29', '18F', '13', '15C', 'NT', '6C', '18B', '11D', '17A', '21', '31', \n",
    "              '22F', '36', '8', '9A', '19B', '28F', '24B', '48', '6B', '23C', '10A', '12F/12A/4', '25F', '35B', '19A', '18C', \n",
    "              '39', '17F', 'NT4b', '28A', '1', '22A', '32F', '6', '35C', '15B', '37', '17', '18', 'NC', '15', '23', '11', \n",
    "              '10F', '14', '3', '9N', '16F', '34', '22', '7F']"
   ]
  },
  {
   "cell_type": "code",
   "execution_count": 5,
   "metadata": {},
   "outputs": [],
   "source": [
    "np.savetxt('all_strain_92.txt', all_strain, delimiter = ',', fmt=\"%s\")"
   ]
  },
  {
   "cell_type": "code",
   "execution_count": 4,
   "metadata": {},
   "outputs": [],
   "source": [
    "#import Brazil alpha & data\n",
    "Brazil_alpha = np.loadtxt(open(\"Brazil_alpha.txt\",\"rb\"), delimiter = \",\", skiprows = 0)\n",
    "Brazil_strain = np.array(Brazil.strain)\n",
    "\n",
    "#import Iran alpha & data\n",
    "Iran_alpha = np.loadtxt(open(\"Iran_alpha.txt\",\"rb\"), delimiter=\",\", skiprows = 0)\n",
    "Iran_strain = np.array(Iran.strain)\n",
    "\n",
    "#import Denmark alpha & data\n",
    "Denmark_alpha = np.loadtxt(open(\"Denmark_alpha.txt\",\"rb\"), delimiter=\",\", skiprows = 0)\n",
    "Denmark_strain = np.array(Denmark.strain)\n",
    "\n",
    "#import Mozambique alpha & data\n",
    "Mozambique_alpha = np.loadtxt(open(\"Mozambique_alpha.txt\",\"rb\"), delimiter=\",\", skiprows = 0)\n",
    "Mozambique_strain = np.array(Mozambique.strain)\n",
    "\n",
    "#import Nepal alpha & data\n",
    "Nepal_alpha = np.loadtxt(open(\"Nepal_alpha.txt\",\"rb\"), delimiter=\",\", skiprows = 0)\n",
    "Nepal_strain = np.array(Nepal.strain)"
   ]
  },
  {
   "cell_type": "code",
   "execution_count": 5,
   "metadata": {},
   "outputs": [],
   "source": [
    "big_alpha = np.ones((92, 92))*50\n",
    "\n",
    "for xBA, strain_xBA in enumerate(all_strain):\n",
    "    for yBA, strain_yBA in enumerate(all_strain):\n",
    "        \n",
    "        #insert from Brazil\n",
    "        find_xBrazil = np.where(Brazil_strain == strain_xBA)\n",
    "        index_xBrazil = find_xBrazil[0]\n",
    "        \n",
    "        find_yBrazil = np.where(Brazil_strain == strain_yBA)\n",
    "        index_yBrazil = find_yBrazil[0]\n",
    "        \n",
    "        #insert from Iran\n",
    "        find_xIran = np.where(Iran_strain == strain_xBA)\n",
    "        index_xIran = find_xIran[0]\n",
    "        \n",
    "        find_yIran = np.where(Iran_strain == strain_yBA)\n",
    "        index_yIran = find_yIran[0]\n",
    "\n",
    "        #insert from Denmark\n",
    "        find_xDenmark = np.where(Denmark_strain == strain_xBA)\n",
    "        index_xDenmark = find_xDenmark[0]\n",
    "        \n",
    "        find_yDenmark = np.where(Denmark_strain == strain_yBA)\n",
    "        index_yDenmark = find_yDenmark[0]\n",
    "\n",
    "        #insert from Mozambique\n",
    "        find_xMozambique = np.where(Mozambique_strain == strain_xBA)\n",
    "        index_xMozambique = find_xMozambique[0]\n",
    "        \n",
    "        find_yMozambique = np.where(Mozambique_strain == strain_yBA)\n",
    "        index_yMozambique = find_yMozambique[0]\n",
    "        \n",
    "        #insert from Nepal\n",
    "        find_xNepal = np.where(Nepal_strain == strain_xBA)\n",
    "        index_xNepal = find_xNepal[0]\n",
    "        \n",
    "        find_yNepal = np.where(Nepal_strain == strain_yBA)\n",
    "        index_yNepal = find_yNepal[0]\n",
    "        \n",
    "\n",
    "        if index_xBrazil.size > 0 and index_yBrazil.size > 0:\n",
    "            big_alpha[xBA, yBA] = Brazil_alpha[index_xBrazil, index_yBrazil]\n",
    "        elif index_xIran.size > 0 and index_yIran.size > 0:\n",
    "            big_alpha[xBA, yBA] = Iran_alpha[index_xIran, index_yIran]\n",
    "        elif index_xDenmark.size > 0 and index_yDenmark.size > 0:\n",
    "            big_alpha[xBA, yBA] = Denmark_alpha[index_xDenmark, index_yDenmark]\n",
    "        elif index_xMozambique.size > 0 and index_yMozambique.size > 0:\n",
    "            big_alpha[xBA, yBA] = Mozambique_alpha[index_xMozambique, index_yMozambique]\n",
    "        elif index_xNepal.size > 0 and index_yNepal.size > 0:\n",
    "            big_alpha[xBA, yBA] = Nepal_alpha[index_xNepal, index_yNepal]"
   ]
  },
  {
   "cell_type": "code",
   "execution_count": 6,
   "metadata": {},
   "outputs": [],
   "source": [
    "np.savetxt('big_alpha.txt', big_alpha, delimiter = ',')"
   ]
  }
 ],
 "metadata": {
  "kernelspec": {
   "display_name": "Python 3 (ipykernel)",
   "language": "python",
   "name": "python3"
  },
  "language_info": {
   "codemirror_mode": {
    "name": "ipython",
    "version": 3
   },
   "file_extension": ".py",
   "mimetype": "text/x-python",
   "name": "python",
   "nbconvert_exporter": "python",
   "pygments_lexer": "ipython3",
   "version": "3.9.13"
  }
 },
 "nbformat": 4,
 "nbformat_minor": 2
}
